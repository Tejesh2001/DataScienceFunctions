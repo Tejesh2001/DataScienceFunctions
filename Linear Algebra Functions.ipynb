{
 "cells": [
  {
   "cell_type": "code",
   "execution_count": 3,
   "metadata": {},
   "outputs": [],
   "source": [
    "import numpy as np\n",
    "import sympy\n",
    "from sympy import Matrix\n",
    "from scipy.stats import sem\n",
    "\n",
    "import scipy\n",
    "import scipy.linalg as sla\n",
    "from scipy.linalg import *"
   ]
  },
  {
   "cell_type": "code",
   "execution_count": 27,
   "metadata": {},
   "outputs": [
    {
     "data": {
      "text/plain": [
       "array([[-0.5   ,  2.    ,  0.    ],\n",
       "       [ 1.625 ,  1.25  ,  0.5   ],\n",
       "       [-0.1875, -2.875 , -0.75  ]])"
      ]
     },
     "execution_count": 27,
     "metadata": {},
     "output_type": "execute_result"
    }
   ],
   "source": [
    "#converting from TBB to TCC cell\n",
    "\n",
    "mat = np.array([[-1,-3,-2],[0,1,-2],[2,0,0]])\n",
    "mat2 = np.linalg.inv(mat)\n",
    "mat1 = np.array([[0,0,-2],[-2,1,0],[-1,1,-1]])\n",
    "\n",
    "#multiply inverse with basis2 * \n",
    "p = mat2@mat1@mat\n",
    "#m =np.linalg.solve(mat,[[0],[2],[-4]])\n",
    "#mat = mat@[[2],[0],[4]]\n",
    "p"
   ]
  },
  {
   "cell_type": "code",
   "execution_count": 149,
   "metadata": {},
   "outputs": [
    {
     "data": {
      "text/plain": [
       "(Matrix([\n",
       " [1, 0, 1],\n",
       " [0, 1, 1]]), (0, 1))"
      ]
     },
     "execution_count": 149,
     "metadata": {},
     "output_type": "execute_result"
    }
   ],
   "source": [
    "#Rref cell\n",
    "\n",
    "mat = Matrix([[0,3,-1,-1,0],[0,0,4,2,0],[0,0,0,1,1]])\n",
    "\n",
    "mat = Matrix([[1,1,2],[1,-1,0]])\n",
    "mat = mat.rref()\n",
    "mat"
   ]
  },
  {
   "cell_type": "code",
   "execution_count": 148,
   "metadata": {},
   "outputs": [
    {
     "data": {
      "text/plain": [
       "[Matrix([\n",
       " [1],\n",
       " [0],\n",
       " [0]]), Matrix([\n",
       " [ 0],\n",
       " [-1],\n",
       " [ 1]])]"
      ]
     },
     "execution_count": 148,
     "metadata": {},
     "output_type": "execute_result"
    }
   ],
   "source": [
    "#Nullspace cell\n",
    "mat  = Matrix([[0,0,0], [1, -1,1],[1, -1,1]]) \n",
    "mat = mat.T\n",
    "mat = mat.nullspace()\n",
    "mat"
   ]
  },
  {
   "cell_type": "code",
   "execution_count": 8,
   "metadata": {},
   "outputs": [
    {
     "output_type": "execute_result",
     "data": {
      "text/latex": "$\\displaystyle -16$",
      "text/plain": [
       "-16"
      ]
     },
     "metadata": {},
     "execution_count": 8
    }
   ],
   "source": [
    "#determinant\n",
    "mat = Matrix( [[-5,-8,-1],[-8,-8,0],[0,-5,-1]])\n",
    "mat = mat.det()\n",
    "mat\n"
   ]
  },
  {
   "cell_type": "code",
   "execution_count": 54,
   "metadata": {},
   "outputs": [
    {
     "data": {
      "text/plain": [
       "array([[0., 1.],\n",
       "       [1., 0.]])"
      ]
     },
     "execution_count": 54,
     "metadata": {},
     "output_type": "execute_result"
    }
   ],
   "source": [
    "#Orthogonal basis of a matrix (dont confuse w orthogonal complement)\n",
    "mat = [[0,-1,0],[-1,0,1],[0,-1,-1]]\n",
    "mat = sla.orth(mat)\n",
    "mat\n"
   ]
  },
  {
   "cell_type": "code",
   "execution_count": 48,
   "metadata": {},
   "outputs": [
    {
     "data": {
      "text/plain": [
       "array([[-1.75],\n",
       "       [ 1.  ],\n",
       "       [ 0.5 ]])"
      ]
     },
     "execution_count": 48,
     "metadata": {},
     "output_type": "execute_result"
    }
   ],
   "source": [
    "#Solving LU equations\n",
    "\n",
    "f = [[1],[2],[3]]\n",
    "K = Matrix([[2,3,3],[0,1,2],[0,0,6]])\n",
    "\n",
    "P,L,U = sla.lu(K)\n",
    "c = sla.solve_triangular(L,P.T@f, lower = True)\n",
    "x = sla.solve_triangular(U,c)\n",
    "x"
   ]
  },
  {
   "cell_type": "code",
   "execution_count": 147,
   "metadata": {},
   "outputs": [
    {
     "data": {
      "text/plain": [
       "array([[-0.5, -0.5],\n",
       "       [-0.5,  0.5]])"
      ]
     },
     "execution_count": 147,
     "metadata": {},
     "output_type": "execute_result"
    }
   ],
   "source": [
    "#inverse cell and tcc\n",
    "A = np.array([[-1,-1],[-1,1]])\n",
    "k = np.linalg.inv(A)\n",
    "#tcc = [[-2,-1,-3], [-1,0,1], [0,1,1]]\n",
    "#k = k@tcc@A\n",
    "k\n"
   ]
  },
  {
   "cell_type": "code",
   "execution_count": 101,
   "metadata": {},
   "outputs": [
    {
     "data": {
      "text/plain": [
       "(Matrix([\n",
       " [1, 0, -3, 0],\n",
       " [0, 1,  2, 0],\n",
       " [0, 0,  0, 0],\n",
       " [0, 0,  0, 0]]), (0, 1))"
      ]
     },
     "execution_count": 101,
     "metadata": {},
     "output_type": "execute_result"
    }
   ],
   "source": [
    "mat =Matrix([[-1,-3,-3,0],[0,-2,-4, 0],[-2,0,6,0], [0,-2,-4,0]])\n",
    "mat = mat.rref()\n",
    "mat "
   ]
  },
  {
   "cell_type": "code",
   "execution_count": 1,
   "metadata": {},
   "outputs": [
    {
     "output_type": "error",
     "ename": "NameError",
     "evalue": "name 'np' is not defined",
     "traceback": [
      "\u001b[1;31m---------------------------------------------------------------------------\u001b[0m",
      "\u001b[1;31mNameError\u001b[0m                                 Traceback (most recent call last)",
      "\u001b[1;32m<ipython-input-1-1053f94a5f58>\u001b[0m in \u001b[0;36m<module>\u001b[1;34m()\u001b[0m\n\u001b[0;32m      1\u001b[0m \u001b[1;31m#only for sqyare\u001b[0m\u001b[1;33m\u001b[0m\u001b[1;33m\u001b[0m\u001b[0m\n\u001b[1;32m----> 2\u001b[1;33m \u001b[0mmat\u001b[0m \u001b[1;33m=\u001b[0m \u001b[0mnp\u001b[0m\u001b[1;33m.\u001b[0m\u001b[0marray\u001b[0m\u001b[1;33m(\u001b[0m\u001b[1;33m[\u001b[0m\u001b[1;33m[\u001b[0m\u001b[1;33m-\u001b[0m\u001b[1;36m1\u001b[0m\u001b[1;33m,\u001b[0m\u001b[1;33m-\u001b[0m\u001b[1;36m3\u001b[0m\u001b[1;33m,\u001b[0m\u001b[1;33m-\u001b[0m\u001b[1;36m3\u001b[0m\u001b[1;33m]\u001b[0m\u001b[1;33m,\u001b[0m\u001b[1;33m[\u001b[0m\u001b[1;36m0\u001b[0m\u001b[1;33m,\u001b[0m\u001b[1;33m-\u001b[0m\u001b[1;36m2\u001b[0m\u001b[1;33m,\u001b[0m\u001b[1;33m-\u001b[0m\u001b[1;36m4\u001b[0m\u001b[1;33m]\u001b[0m\u001b[1;33m,\u001b[0m\u001b[1;33m[\u001b[0m\u001b[1;33m-\u001b[0m\u001b[1;36m2\u001b[0m\u001b[1;33m,\u001b[0m\u001b[1;36m0\u001b[0m\u001b[1;33m,\u001b[0m\u001b[1;36m6\u001b[0m\u001b[1;33m]\u001b[0m\u001b[1;33m,\u001b[0m\u001b[1;33m[\u001b[0m\u001b[1;36m0\u001b[0m\u001b[1;33m,\u001b[0m\u001b[1;33m-\u001b[0m\u001b[1;36m2\u001b[0m\u001b[1;33m,\u001b[0m\u001b[1;33m-\u001b[0m\u001b[1;36m4\u001b[0m\u001b[1;33m]\u001b[0m\u001b[1;33m]\u001b[0m\u001b[1;33m)\u001b[0m\u001b[1;33m\u001b[0m\u001b[0m\n\u001b[0m\u001b[0;32m      3\u001b[0m \u001b[1;31m#m =np.linalg.solve(mat,[[0],[0],[0],[0]])\u001b[0m\u001b[1;33m\u001b[0m\u001b[1;33m\u001b[0m\u001b[0m\n\u001b[0;32m      4\u001b[0m \u001b[0ma\u001b[0m \u001b[1;33m=\u001b[0m \u001b[0mnp\u001b[0m\u001b[1;33m.\u001b[0m\u001b[0marray\u001b[0m\u001b[1;33m(\u001b[0m\u001b[1;33m[\u001b[0m\u001b[1;33m[\u001b[0m\u001b[1;36m0\u001b[0m\u001b[1;33m,\u001b[0m\u001b[1;36m0\u001b[0m\u001b[1;33m]\u001b[0m\u001b[1;33m,\u001b[0m\u001b[1;33m[\u001b[0m\u001b[1;36m0\u001b[0m\u001b[1;33m,\u001b[0m\u001b[1;36m0\u001b[0m\u001b[1;33m]\u001b[0m\u001b[1;33m]\u001b[0m\u001b[1;33m)\u001b[0m\u001b[1;33m\u001b[0m\u001b[0m\n\u001b[0;32m      5\u001b[0m \u001b[0mmat\u001b[0m \u001b[1;33m=\u001b[0m \u001b[0msla\u001b[0m\u001b[1;33m.\u001b[0m\u001b[0msolve\u001b[0m\u001b[1;33m(\u001b[0m\u001b[0mmat\u001b[0m\u001b[1;33m,\u001b[0m\u001b[0ma\u001b[0m\u001b[1;33m)\u001b[0m\u001b[1;33m\u001b[0m\u001b[0m\n",
      "\u001b[1;31mNameError\u001b[0m: name 'np' is not defined"
     ]
    }
   ],
   "source": [
    "#only for sqyare\n",
    "mat = np.array([[-1,-3,-3],[0,-2,-4],[-2,0,6],[0,-2,-4]])\n",
    "#m =np.linalg.solve(mat,[[0],[0],[0],[0]])\n",
    "a = np.array([[0,0],[0,0]])\n",
    "mat = sla.solve(mat,a)\n",
    "print(mat)"
   ]
  },
  {
   "cell_type": "code",
   "execution_count": null,
   "metadata": {},
   "outputs": [],
   "source": [
    "#graph function for finding number of connections to people\n",
    "import numpy as np\n",
    "import numpy.linalg as la\n",
    "\n",
    "M = friends + np.eye(np.shape(friends)[0])\n",
    "Z = la.matrix_power(M, 1)\n",
    "Z = (Z>0).astype(int)\n",
    "unique_groups = np.unique(Z, axis = 0)\n",
    "num_friend_groups = np.shape(unique_groups)[0]\n",
    "\n",
    "\n",
    "\n",
    "k = 100\n",
    "num_meme_spread = 0\n",
    "for i in range (k):\n",
    "    num_meme_spread += Z[i][70]\n",
    "    \n",
    "\n",
    "\n",
    "\n",
    "def meme_spread(friends, origin):\n",
    "  # friends: 2d numpy array with the friend social network\n",
    "  # origin: integer with the person starting sending the meme\n",
    "  # write your code here\n",
    "    \n",
    "    k = np.shape(friends)[0]\n",
    "    M = friends + np.eye(k)\n",
    "    \n",
    "    Z = la.matrix_power(M, k-1)\n",
    "    \n",
    "    Z = (Z>0).astype(int)\n",
    "    \n",
    "    integer_number_people_that_see_the_meme = 0\n",
    "    for i in range (k):\n",
    "        integer_number_people_that_see_the_meme += Z[i][origin]\n",
    "    \n",
    "    \n",
    "    return integer_number_people_that_see_the_meme\n",
    "\n",
    "\n",
    "  \n",
    "  \n",
    "  "
   ]
  },
  {
   "cell_type": "code",
   "execution_count": null,
   "metadata": {},
   "outputs": [],
   "source": []
  }
 ],
 "metadata": {
  "kernelspec": {
   "display_name": "Python 3",
   "language": "python",
   "name": "python3"
  },
  "language_info": {
   "codemirror_mode": {
    "name": "ipython",
    "version": 3
   },
   "file_extension": ".py",
   "mimetype": "text/x-python",
   "name": "python",
   "nbconvert_exporter": "python",
   "pygments_lexer": "ipython3",
   "version": "3.5.6-final"
  }
 },
 "nbformat": 4,
 "nbformat_minor": 4
}